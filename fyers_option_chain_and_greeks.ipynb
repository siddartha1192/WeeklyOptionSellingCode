{
  "nbformat": 4,
  "nbformat_minor": 0,
  "metadata": {
    "colab": {
      "provenance": [],
      "include_colab_link": true
    },
    "kernelspec": {
      "name": "python3",
      "display_name": "Python 3"
    },
    "language_info": {
      "name": "python"
    }
  },
  "cells": [
    {
      "cell_type": "markdown",
      "metadata": {
        "id": "view-in-github",
        "colab_type": "text"
      },
      "source": [
        "<a href=\"https://colab.research.google.com/github/siddartha1192/WeeklyOptionSellingCode/blob/master/fyers_option_chain_and_greeks.ipynb\" target=\"_parent\"><img src=\"https://colab.research.google.com/assets/colab-badge.svg\" alt=\"Open In Colab\"/></a>"
      ]
    },
    {
      "cell_type": "code",
      "source": [
        "# !pip install fyers-apiv3\n",
        "# !pip install pendulum\n",
        "# !pip install mibian"
      ],
      "metadata": {
        "id": "k2NI0x6eoQGv"
      },
      "execution_count": null,
      "outputs": []
    },
    {
      "cell_type": "markdown",
      "source": [
        "credentials"
      ],
      "metadata": {
        "id": "cQD97AtBxnhA"
      }
    },
    {
      "cell_type": "code",
      "execution_count": null,
      "metadata": {
        "id": "U7pbxnmOoCN1"
      },
      "outputs": [],
      "source": [
        "client_id = '65L1HFF7DC-200'\n",
        "secret_key = 'DKRVMFUG3U'\n",
        "redirect_uri ='https://fessorpro.com/'"
      ]
    },
    {
      "cell_type": "code",
      "source": [
        "access_token='eyJhbGc9.eyJhdWQiOlsiZDoxIiwiZDoyIiwieDowIiwieDoxIiwieDoyIl0sImF0X2hhc2giOiJnQUFBQUFCb1loZXplQ0I2bnFQOUdDODlTSlpKaDNHZEkwNWhkQ0xqYk1MRTR2RkdMY2hqNlZ6WG5jYW9VUGdPTHpYRWFYV1Q2bDBrTW04WjBHNHZfcWdOQWJBZWNEc2xXaDNoNHFvSjZxLWFaYzl1b2FjZU0zdz0iLCJkaXNwbGF5X25hbWUiOiIiLCJvbXMiOiJLMSIsImhzbV9rZXkiOiJiYWI4MjcyNTE3ZGY0NDdmMGJlMDU3OTg1NjgyYzExMGE1MmNiZjJiMjM1YzhhY2E0ZjczYWM5ZCIsImlzRGRwaUVuYWJsZWQiOiJOIiwiaXNNdGZFbmFibGVkIjoiTiIsImZ5X2lkIjoiWFM0NTQ3NCIsImFwcFR5cGUiOjEwMCwiZXhwIjoxNzUxMzI5ODAwLCJpYXQiOjE3NTEyNTkwNTksImlzcyI6ImFwaS5meWVycy5pbiIsIm5iZiI6MTc1MTI1OTA1OSwic3ViIjoiYWNjZXNzX3Rva2VuIn0.8Xe7b1RDhXLB9MHKxp3tUfDLvsEA6MjGkhtJ25Ayh3Q'\n",
        "access_token"
      ],
      "metadata": {
        "id": "ufylnoRxoOZr"
      },
      "execution_count": null,
      "outputs": []
    },
    {
      "cell_type": "code",
      "source": [
        "from fyers_apiv3 import fyersModel\n",
        "import pandas as pd\n",
        "import pendulum as dt\n",
        "import math\n",
        "from scipy.stats import norm\n",
        "import mibian\n",
        "time_zone=\"Asia/Kolkata\""
      ],
      "metadata": {
        "id": "RlWfMw6Yoh7K"
      },
      "execution_count": null,
      "outputs": []
    },
    {
      "cell_type": "markdown",
      "source": [
        "spot price"
      ],
      "metadata": {
        "id": "CmdA1ipm1x7-"
      }
    },
    {
      "cell_type": "code",
      "source": [
        "\n",
        "# Initialize FyersModel instances for synchronous and asynchronous operations\n",
        "fyers = fyersModel.FyersModel(client_id=client_id, is_async=False, token=access_token, log_path=None)\n",
        "n='NIFTYBANK'\n",
        "strike_diff=100\n",
        "op_type='CE'\n",
        "underlying=f\"NSE:{n}-INDEX\"\n",
        "\n",
        "spot_price = fyers.quotes(data={\"symbols\":underlying}).get('d')[0].get('v').get('lp')\n",
        "print('spot price is',spot_price)\n",
        "\n"
      ],
      "metadata": {
        "id": "-q-1CMxHpAAH"
      },
      "execution_count": null,
      "outputs": []
    },
    {
      "cell_type": "markdown",
      "source": [
        "expiry"
      ],
      "metadata": {
        "id": "R4H9vG1D10LO"
      }
    },
    {
      "cell_type": "code",
      "source": [
        "# Define the data for the option chain request\n",
        "data = {\n",
        "    \"symbol\": underlying,\n",
        "    \"strikecount\": 5,\n",
        "    \"timestamp\": \"\"\n",
        "}\n",
        "\n",
        "response = fyers.optionchain(data=data)['data']\n",
        "expiry_e = response['expiryData'][0]['expiry']\n",
        "expiry=dt.from_timestamp(int(expiry_e),tz=time_zone)\n",
        "print(\"current expiry is\",expiry)"
      ],
      "metadata": {
        "id": "AS-GuOYwpCiX"
      },
      "execution_count": null,
      "outputs": []
    },
    {
      "cell_type": "markdown",
      "source": [
        "option chain"
      ],
      "metadata": {
        "id": "CRoG-MEW13bj"
      }
    },
    {
      "cell_type": "code",
      "source": [
        "# Get the option chain data\n",
        "response = fyers.optionchain(data=data)['data']\n",
        "option_chain = pd.DataFrame(response['optionsChain'])\n",
        "# option_chain"
      ],
      "metadata": {
        "id": "dg5v1vCcpmFF"
      },
      "execution_count": null,
      "outputs": []
    },
    {
      "cell_type": "markdown",
      "source": [
        "option name and strike"
      ],
      "metadata": {
        "id": "eCxzJI0x12sb"
      }
    },
    {
      "cell_type": "code",
      "source": [
        "\n",
        "# Function to get the OTM option based on spot price and side (CE/PE)\n",
        "\n",
        "\n",
        "\n",
        "def get_otm_option(spot_price, side, points=0):\n",
        "    if side == 'CE':\n",
        "        otm_strike = (round(spot_price / strike_diff) * strike_diff) + points\n",
        "    else:\n",
        "        otm_strike = (round(spot_price / strike_diff) * strike_diff) - points\n",
        "    otm_option = option_chain[(option_chain['strike_price'] == otm_strike) & (option_chain['option_type'] == side)]['symbol'].squeeze()\n",
        "    return otm_option, otm_strike\n",
        "strike_name,strike=get_otm_option(spot_price, op_type, points=0)\n",
        "print('strike_name:',strike_name)\n",
        "print('strike_price:',strike)"
      ],
      "metadata": {
        "id": "BISGfQt5p-Mp"
      },
      "execution_count": null,
      "outputs": []
    },
    {
      "cell_type": "markdown",
      "source": [
        "intrest rate"
      ],
      "metadata": {
        "id": "X9mpQtIi18Ay"
      }
    },
    {
      "cell_type": "code",
      "source": [
        "ir=0.10\n",
        "option_type =strike_name[-2:]\n",
        "print(option_type)\n"
      ],
      "metadata": {
        "id": "z__Za8sMpjw7"
      },
      "execution_count": null,
      "outputs": []
    },
    {
      "cell_type": "markdown",
      "source": [
        "time till expiry"
      ],
      "metadata": {
        "id": "9ArGuG5Q1_Hu"
      }
    },
    {
      "cell_type": "code",
      "source": [
        "time_to_expiry = (expiry  - dt.now(time_zone)).total_seconds() / dt.duration(days=1).total_seconds()\n",
        "print('time to expriy',time_to_expiry)"
      ],
      "metadata": {
        "id": "pRXCpboeqqWp"
      },
      "execution_count": null,
      "outputs": []
    },
    {
      "cell_type": "markdown",
      "source": [
        "option price"
      ],
      "metadata": {
        "id": "L-WlRKHB2C0c"
      }
    },
    {
      "cell_type": "code",
      "source": [
        "option_price = fyers.quotes(data={\"symbols\":strike_name}).get('d')[0].get('v').get('lp')\n",
        "option_price"
      ],
      "metadata": {
        "id": "va3QU92rrQ6o"
      },
      "execution_count": null,
      "outputs": []
    },
    {
      "cell_type": "markdown",
      "source": [
        "black scholes"
      ],
      "metadata": {
        "id": "64LxJ9dR2FC7"
      }
    },
    {
      "cell_type": "code",
      "source": [
        "import math\n",
        "from scipy.stats import norm\n",
        "\n",
        "def black_scholes_price(S, K, T, r, sigma, option_type='CE'):\n",
        "    \"\"\"Calculate Black-Scholes price for call or put option.\n",
        "\n",
        "    Optimizations:\n",
        "    - Precompute common terms\n",
        "    - Use more efficient math operations\n",
        "    - Vectorized operations (though not applicable in this scalar case)\n",
        "    \"\"\"\n",
        "    sqrt_T = math.sqrt(T)\n",
        "    log_SK = math.log(S / K)\n",
        "    r_sigma_sq = r + 0.5 * sigma * sigma\n",
        "\n",
        "    d1 = (log_SK + r_sigma_sq * T) / (sigma * sqrt_T)\n",
        "    d2 = d1 - sigma * sqrt_T\n",
        "\n",
        "    if option_type == 'CE':\n",
        "        return S * norm.cdf(d1) - K * math.exp(-r * T) * norm.cdf(d2)\n",
        "    elif option_type == 'PE':\n",
        "        return K * math.exp(-r * T) * norm.cdf(-d2) - S * norm.cdf(-d1)\n",
        "    else:\n",
        "        raise ValueError(\"option_type must be 'CE' or 'PE'\")\n",
        "\n",
        "def implied_volatility(S, K, T, r, market_price, option_type='CE', tol=1e-6, max_iterations=100):\n",
        "    \"\"\"\n",
        "    Calculate implied volatility using Newton-Raphson with optimizations:\n",
        "    \"\"\"\n",
        "    # Handle edge cases first\n",
        "    if market_price <= 0:\n",
        "        return 0.0\n",
        "    intrinsic_value = max(S - K, 0) if option_type == 'CE' else max(K - S, 0)\n",
        "    if market_price <= intrinsic_value:\n",
        "        return 0.0\n",
        "\n",
        "    # Better initial guess based on Brenner-Subrahmanyam approximation for ATM options\n",
        "    if S == K:\n",
        "        sigma = market_price / (S * 0.3989 * math.sqrt(T))\n",
        "    else:\n",
        "        sigma = math.sqrt(2 * math.pi / T) * market_price / S\n",
        "\n",
        "    sigma = max(sigma, 1e-4)  # Ensure we don't start with zero\n",
        "\n",
        "    sqrt_T = math.sqrt(T)\n",
        "    log_SK = math.log(S / K)\n",
        "    discount = math.exp(-r * T)\n",
        "\n",
        "    for i in range(max_iterations):\n",
        "        sigma_sq = sigma * sigma\n",
        "        r_sigma_sq = r + 0.5 * sigma_sq\n",
        "\n",
        "        d1 = (log_SK + r_sigma_sq * T) / (sigma * sqrt_T)\n",
        "        d2 = d1 - sigma * sqrt_T\n",
        "\n",
        "        if option_type == 'CE':\n",
        "            price = S * norm.cdf(d1) - K * discount * norm.cdf(d2)\n",
        "        else:\n",
        "            price = K * discount * norm.cdf(-d2) - S * norm.cdf(-d1)\n",
        "\n",
        "        price_diff = price - market_price\n",
        "        if abs(price_diff) < tol:\n",
        "            return sigma\n",
        "\n",
        "        vega = S * norm.pdf(d1) * sqrt_T\n",
        "        if vega < 1e-12:  # Avoid division by very small numbers\n",
        "            break\n",
        "\n",
        "        sigma -= price_diff / vega\n",
        "        sigma = max(sigma, 1e-4)  # Prevent negative volatility\n",
        "\n",
        "    # Fall back to bisection if Newton-Raphson fails\n",
        "    return _bisection_iv(S, K, T, r, market_price, option_type, tol, max_iterations)\n",
        "\n",
        "def _bisection_iv(S, K, T, r, market_price, option_type, tol, max_iterations):\n",
        "    \"\"\"Fallback bisection method when Newton-Raphson fails\"\"\"\n",
        "    low = 0.0\n",
        "    high = 5.0  # 500% volatility as upper bound\n",
        "\n",
        "    for i in range(max_iterations):\n",
        "        mid = (low + high) * 0.5\n",
        "        price = black_scholes_price(S, K, T, r, mid, option_type)\n",
        "\n",
        "        if abs(price - market_price) < tol:\n",
        "            return mid\n",
        "\n",
        "        if price < market_price:\n",
        "            low = mid\n",
        "        else:\n",
        "            high = mid\n",
        "\n",
        "    return (low + high) * 0.5  # Return best estimate if not converged\n",
        "\n",
        "iv = implied_volatility(spot_price, strike, time_to_expiry/365, ir, option_price, option_type=option_type)\n",
        "print(f\" IV: {iv:.4f}\")"
      ],
      "metadata": {
        "id": "MMnnIKDI_zs6"
      },
      "execution_count": null,
      "outputs": []
    },
    {
      "cell_type": "code",
      "source": [
        "\n",
        "mbo = mibian.BS([spot_price, strike, ir, time_to_expiry], volatility= iv*100)\n",
        "delta = mbo.callDelta if option_type ==\"CE\" else mbo.putDelta\n",
        "theta =mbo.callTheta if option_type==\"CE\" else mbo.putTheta\n",
        "vega =mbo.vega\n",
        "gamma =mbo.gamma\n",
        "print(f\"spot_name: {underlying}, spot_price {spot_price}\\nstrike_name {strike_name} strike price {option_price} expiry {expiry}\")\n",
        "print(f\"iv :{iv} , delta :{delta} , theta: {theta}\")"
      ],
      "metadata": {
        "id": "_8qyKieQ0m7w"
      },
      "execution_count": null,
      "outputs": []
    }
  ]
}